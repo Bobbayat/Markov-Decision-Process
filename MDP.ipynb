{
 "cells": [
  {
   "cell_type": "code",
   "execution_count": 1,
   "id": "678a8a45",
   "metadata": {},
   "outputs": [],
   "source": [
    "import numpy as np\n",
    "from graphviz import Digraph"
   ]
  },
  {
   "cell_type": "markdown",
   "id": "4edad6fa",
   "metadata": {},
   "source": [
    "# STEP1: Displaying MDP graph"
   ]
  },
  {
   "cell_type": "code",
   "execution_count": 2,
   "id": "ba2c1747",
   "metadata": {},
   "outputs": [],
   "source": [
    "mdp_graph = Digraph('MDP', filename='mdp.gv')"
   ]
  },
  {
   "cell_type": "code",
   "execution_count": 3,
   "id": "aca2c7fe",
   "metadata": {},
   "outputs": [],
   "source": [
    "transitions_states = {\n",
    "    's0': {\n",
    "        'a0': {'s0': 0.5, 's2': 0.5},\n",
    "        'a1': {'s2': 1.0}\n",
    "    },\n",
    "    's1': {\n",
    "        'a0': {'s0': 0.7, 's1': 0.1, 's2': 0.2},\n",
    "        'a1': {'s1': 0.95, 's2': 0.05}\n",
    "    },\n",
    "    's2': {\n",
    "        'a0': {'s0': 0.4, 's2': 0.6},\n",
    "        'a1': {'s0': 0.3, 's1': 0.3, 's2': 0.4}\n",
    "    }\n",
    "}"
   ]
  },
  {
   "cell_type": "code",
   "execution_count": 4,
   "id": "6d89ce0e",
   "metadata": {},
   "outputs": [],
   "source": [
    "rewards = {\n",
    "    ('s2', 'a1', 's0'): -1,\n",
    "    ('s1', 'a0', 's0'): +5\n",
    "}"
   ]
  },
  {
   "cell_type": "code",
   "execution_count": 5,
   "id": "54bf06ed",
   "metadata": {},
   "outputs": [],
   "source": [
    "actions = {'a0', 'a1'}"
   ]
  },
  {
   "cell_type": "code",
   "execution_count": 6,
   "id": "be0f5012",
   "metadata": {},
   "outputs": [],
   "source": [
    "# Create a new Digraph object\n",
    "dot = Digraph(comment='MDP')"
   ]
  },
  {
   "cell_type": "code",
   "execution_count": 7,
   "id": "c5dd60b5",
   "metadata": {},
   "outputs": [],
   "source": [
    "# Add nodes to the graph\n",
    "for state in transitions_states:\n",
    "    dot.node(state)"
   ]
  },
  {
   "cell_type": "code",
   "execution_count": 8,
   "id": "618b0603",
   "metadata": {},
   "outputs": [],
   "source": [
    "# Add edges to the graph\n",
    "for state in transitions_states:\n",
    "    for action in actions:\n",
    "        for next_state, probability in transitions_states[state][action].items():\n",
    "            dot.edge(state, next_state, label='(' + action + ' - ' + str(probability) + ')')"
   ]
  },
  {
   "cell_type": "code",
   "execution_count": 9,
   "id": "e29d5150",
   "metadata": {},
   "outputs": [],
   "source": [
    "# Add rewards to the graph\n",
    "for key, value in rewards.items():\n",
    "    dot.edge(key[0], key[2], label=str(value))"
   ]
  },
  {
   "cell_type": "code",
   "execution_count": 10,
   "id": "5936c7b3",
   "metadata": {},
   "outputs": [
    {
     "data": {
      "text/plain": [
       "'graph.pdf'"
      ]
     },
     "execution_count": 10,
     "metadata": {},
     "output_type": "execute_result"
    }
   ],
   "source": [
    "# Render the graph\n",
    "dot.render('graph', view=True)"
   ]
  },
  {
   "cell_type": "markdown",
   "id": "ac825b85",
   "metadata": {},
   "source": [
    "# STEP 2: Solving MDP using Value Iteration"
   ]
  },
  {
   "cell_type": "code",
   "execution_count": 11,
   "id": "53fb431c",
   "metadata": {},
   "outputs": [],
   "source": [
    "max_iterations=100\n",
    "gamma = 0.9\n",
    "delta = 1e-6"
   ]
  },
  {
   "cell_type": "code",
   "execution_count": 12,
   "id": "4f7914ae",
   "metadata": {},
   "outputs": [],
   "source": [
    "V = {'s0': 0, 's1': 0, 's2': 0}"
   ]
  },
  {
   "cell_type": "code",
   "execution_count": 13,
   "id": "f76613bf",
   "metadata": {},
   "outputs": [],
   "source": [
    "# Value iteration loop\n",
    "for i in range(max_iterations):\n",
    "    delta_i = 0\n",
    "    # Compute the state-action values Q_i(s,a)\n",
    "    Q = {}\n",
    "    for s in transitions_states:\n",
    "        for a in transitions_states[s]:\n",
    "            q = 0\n",
    "            for s1 in transitions_states[s][a]:\n",
    "                prob = transitions_states[s][a][s1]\n",
    "                if (s, a, s1) in rewards:\n",
    "                    r = rewards[(s, a, s1)]\n",
    "                else:\n",
    "                    r = 0\n",
    "                q += prob*(r + gamma*V[s1])\n",
    "            Q[(s, a)] = q\n",
    "    # Update the value function V_i+1(s)\n",
    "    for s in transitions_states:\n",
    "        v = V[s]\n",
    "        V[s] = max([Q[(s, a)] for a in transitions_states[s]])\n",
    "        delta_i = max(delta_i, abs(v - V[s]))\n",
    "    # Check for convergence\n",
    "    if delta_i < delta:\n",
    "        break"
   ]
  },
  {
   "cell_type": "code",
   "execution_count": 15,
   "id": "8436721d",
   "metadata": {},
   "outputs": [],
   "source": [
    "# Find the optimal policy\n",
    "pi = {}\n",
    "for s in transitions_states:\n",
    "    pi[s] = max(transitions_states[s], key=lambda a: sum(transitions_states[s][a][s1]*(rewards.get((s, a, s1), 0) + gamma*V[s1]) for s1 in transitions_states[s][a]))"
   ]
  },
  {
   "cell_type": "code",
   "execution_count": 16,
   "id": "9db487ac",
   "metadata": {},
   "outputs": [],
   "source": [
    "# Compute the average reward\n",
    "avg_reward = sum(sum(transitions_states[s][pi[s]][s1]*(rewards.get((s, pi[s], s1), 0)) for s1 in transitions_states[s][pi[s]]) for s in transitions_states) / sum(len(transitions_states[s]) for s in transitions_states)"
   ]
  },
  {
   "cell_type": "code",
   "execution_count": 17,
   "id": "93cf5854",
   "metadata": {},
   "outputs": [
    {
     "name": "stdout",
     "output_type": "stream",
     "text": [
      "Optimal value function: {'s0': 3.789830037441072, 's1': 7.30280158776066, 's2': 4.21093543912048}\n",
      "Optimal policy: {'s0': 'a1', 's1': 'a0', 's2': 'a1'}\n",
      "Average reward: 0.5333333333333333\n"
     ]
    }
   ],
   "source": [
    "print(\"Optimal value function:\", V)\n",
    "print(\"Optimal policy:\", pi)\n",
    "print(\"Average reward:\", avg_reward)"
   ]
  },
  {
   "cell_type": "code",
   "execution_count": null,
   "id": "ed7e37d2",
   "metadata": {},
   "outputs": [],
   "source": []
  }
 ],
 "metadata": {
  "kernelspec": {
   "display_name": "Python 3 (ipykernel)",
   "language": "python",
   "name": "python3"
  },
  "language_info": {
   "codemirror_mode": {
    "name": "ipython",
    "version": 3
   },
   "file_extension": ".py",
   "mimetype": "text/x-python",
   "name": "python",
   "nbconvert_exporter": "python",
   "pygments_lexer": "ipython3",
   "version": "3.10.9"
  }
 },
 "nbformat": 4,
 "nbformat_minor": 5
}
